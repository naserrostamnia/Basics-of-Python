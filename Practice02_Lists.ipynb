{
 "cells": [
  {
   "attachments": {},
   "cell_type": "markdown",
   "metadata": {},
   "source": [
    "**Python Collections (Arrays)**\n",
    "\n",
    "There are four collection data types in the Python programming language:\n",
    "\n",
    "* **List** is a collection that stores multiple items in a single variable. Lists are ordered, changeable, and allow duplicate members.\n",
    "* **Tuple** is a collection which is ordered and unchangeable. Allows duplicate members.\n",
    "* **Set** is a collection which is unordered, unchangeable*, and unindexed. No duplicate members.\n",
    "* **Dictionary** is a collection which is ordered** and changeable. No duplicate members."
   ]
  },
  {
   "attachments": {},
   "cell_type": "markdown",
   "metadata": {},
   "source": [
    "# List: \n",
    "\n",
    "**Common List Methods:**\n",
    "* **list.append(elem)** -- adds a single element to the end of the list. \n",
    "Common error: does not return the new list, just modifies the original.\n",
    "* **list.insert(index, elem)** -- inserts the element at the given index, shifting elements to the right.\n",
    "* **list.extend(list2)** adds the elements in list2 to the end of the list. Using + or += on a list is similar to using extend().\n",
    "* **list.index(elem)** -- searches for the given element from the start of the list and returns its index. Throws a ValueError if the element does not appear (use \"in\" to check without a ValueError).\n",
    "* **list.remove(elem)** -- searches for the first instance of the given element and removes it (throws ValueError if not present)\n",
    "* **list.sort()** -- sorts the list in place (does not return it). (The sorted() function shown later is preferred.)\n",
    "* **list.reverse()** -- reverses the list in place (does not return it)\n",
    "* **list.pop(index)** -- removes and returns the element at the given index. Returns the rightmost element if index is omitted (roughly the opposite of append()).\n",
    "\n",
    "**Notice** that these are *methods* on a list object, while len() is a function that takes the list (or string or whatever) as an argument."
   ]
  },
  {
   "cell_type": "markdown",
   "metadata": {},
   "source": [
    "\n",
    "**Adding elements to the END of a list using Append() function**"
   ]
  },
  {
   "cell_type": "code",
   "execution_count": 2,
   "metadata": {},
   "outputs": [
    {
     "name": "stdout",
     "output_type": "stream",
     "text": [
      "Courses before appending: ['Mathematics', 'Programing', 'Management']\n",
      "Courses after appending: ['Mathematics', 'Programing', 'Management', 'Statistics']\n"
     ]
    }
   ],
   "source": [
    "courses = ['Mathematics', 'Programing', 'Management']\n",
    "print(\"Courses before appending:\", courses)\n",
    "\n",
    "courses.append('Statistics')\n",
    "print(\"Courses after appending:\", courses)"
   ]
  },
  {
   "cell_type": "markdown",
   "metadata": {},
   "source": [
    "**Initializing an empty list 'courses' and appending subjects to it.**"
   ]
  },
  {
   "cell_type": "code",
   "execution_count": null,
   "metadata": {},
   "outputs": [],
   "source": [
    "courses = []\n",
    "courses.append('Mathematics')\n",
    "courses.append('Programing')\n",
    "courses.append(\"Management\")\n",
    "\n",
    "print(courses)"
   ]
  },
  {
   "attachments": {},
   "cell_type": "markdown",
   "metadata": {},
   "source": [
    "**Inserting Elements to any Position in your List by Using the insert() Method**"
   ]
  },
  {
   "cell_type": "code",
   "execution_count": 4,
   "metadata": {},
   "outputs": [
    {
     "name": "stdout",
     "output_type": "stream",
     "text": [
      "Courses after inserting 'Machine Learning' at the beginning: ['Machine Learning', 'Mathematics', 'Programming', 'Management']\n",
      "Courses after inserting 'Statistics' at index 2: ['Machine Learning', 'Mathematics', 'Statistics', 'Programming', 'Management']\n"
     ]
    }
   ],
   "source": [
    "courses = ['Mathematics', 'Programming', 'Management']\n",
    "\n",
    "courses.insert(0, 'Machine Learning')\n",
    "print(\"Courses after inserting 'Machine Learning' at the beginning:\", courses)\n",
    "\n",
    "courses.insert(2, 'Statistics')\n",
    "print(\"Courses after inserting 'Statistics' at index 2:\", courses)\n"
   ]
  },
  {
   "attachments": {},
   "cell_type": "markdown",
   "metadata": {},
   "source": [
    "**Removing an item or a set of items from any position in a list using del statement**"
   ]
  },
  {
   "cell_type": "code",
   "execution_count": 7,
   "metadata": {},
   "outputs": [
    {
     "name": "stdout",
     "output_type": "stream",
     "text": [
      "Initial courses list: ['Machine Learning', 'Mathematics', 'Statistics', 'Programming', 'Management']\n",
      "Courses after deleting the first item: ['Mathematics', 'Statistics', 'Programming', 'Management']\n",
      "\n",
      "Initial courses list: ['Machine Learning', 'Mathematics', 'Statistics', 'Programming', 'Management']\n",
      "Courses after deleting items at index 2 and 3: ['Machine Learning', 'Mathematics', 'Management']\n"
     ]
    }
   ],
   "source": [
    "courses = ['Machine Learning', 'Mathematics', 'Statistics', 'Programming', 'Management']\n",
    "print(\"Initial courses list:\", courses)\n",
    "\n",
    "del courses[0]\n",
    "print(\"Courses after deleting the first item:\", courses)\n",
    "\n",
    "#---------------------------------------------------\n",
    "courses = ['Machine Learning', 'Mathematics', 'Statistics', 'Programming', 'Management']\n",
    "print(\"\\nInitial courses list:\", courses)\n",
    "\n",
    "# Delete the items from index 2 to 3 (4th is excluded)\n",
    "del courses[2:4]  # This deletes 'Statistics' (index 2) and 'Programming' (index 3)\n",
    "print(\"Courses after deleting items at index 2 and 3:\", courses)"
   ]
  },
  {
   "attachments": {},
   "cell_type": "markdown",
   "metadata": {},
   "source": [
    "**Removing an item using the pop() Method**\n",
    "\n",
    "The pop() method removes the last item in the list by default and returns it."
   ]
  },
  {
   "cell_type": "code",
   "execution_count": 9,
   "metadata": {},
   "outputs": [
    {
     "name": "stdout",
     "output_type": "stream",
     "text": [
      "Poped_course:  Management\n",
      "Updated courses list: ['Machine Learning', 'Mathematics', 'Statistics', 'Programming']\n"
     ]
    }
   ],
   "source": [
    "courses = ['Machine Learning', 'Mathematics', 'Statistics', 'Programming', 'Management']\n",
    "\n",
    "poped_courses = courses.pop() # there is no entry to pop(), so it remove the last item in the list.\n",
    "print(\"Poped_course: \" , poped_courses)\n",
    "\n",
    "# Print the updated courses list after popping the last item\n",
    "print(\"Updated courses list:\", courses)"
   ]
  },
  {
   "cell_type": "code",
   "execution_count": 11,
   "metadata": {},
   "outputs": [
    {
     "name": "stdout",
     "output_type": "stream",
     "text": [
      "['Machine Learning', 'Mathematics', 'Statistics', 'Programming', 'Management']\n",
      "The third course in the list was  Statistics .\n",
      "Updated courses list: ['Machine Learning', 'Mathematics', 'Programming', 'Management']\n"
     ]
    }
   ],
   "source": [
    "courses = ['Machine Learning', 'Mathematics', 'Statistics', 'Programming', 'Management']\n",
    "print(courses)\n",
    "\n",
    "poped_courses = courses.pop(2) # remove the third item in the list as it start couniting the elements from zero.\n",
    "print(\"The third course in the list was \", poped_courses , \".\")\n",
    "\n",
    "# Print the updated courses list after popping the third item\n",
    "print(\"Updated courses list:\", courses)"
   ]
  },
  {
   "attachments": {},
   "cell_type": "markdown",
   "metadata": {},
   "source": [
    "**Removing an item by value using remove() method**\n",
    "\n",
    "The remove() method deletes only the first occurrence of the value you specify within the parentheses. It takes exactly one argument—the value to be removed. If the value appears multiple times in the list, remove() will only remove the first instance. To remove all occurrences of a value, you need to use a loop."
   ]
  },
  {
   "cell_type": "code",
   "execution_count": 12,
   "metadata": {},
   "outputs": [
    {
     "name": "stdout",
     "output_type": "stream",
     "text": [
      "['Toyota', 'BMW', 'Mercedes', 'Audi', 'Tesla']\n",
      "['Toyota', 'BMW', 'Mercedes', 'Audi']\n",
      "Tesla was removed from the list because it was too expensive.\n"
     ]
    }
   ],
   "source": [
    "cars = ['Toyota', 'BMW', 'Mercedes', 'Audi', 'Tesla']\n",
    "print(cars)\n",
    "\n",
    "# Marking 'Tesla' as too expensive\n",
    "too_expensive = 'Tesla'\n",
    "cars.remove(too_expensive)  # Remove the too-expensive car from the list\n",
    "\n",
    "# Print the updated list of cars and the removed one\n",
    "print(cars)\n",
    "print(too_expensive.title(), \"was removed from the list because it was too expensive.\")\n"
   ]
  },
  {
   "attachments": {},
   "cell_type": "markdown",
   "metadata": {},
   "source": [
    "**Removing Duplicaten Items**\n"
   ]
  },
  {
   "cell_type": "code",
   "execution_count": 13,
   "metadata": {},
   "outputs": [
    {
     "name": "stdout",
     "output_type": "stream",
     "text": [
      "\n",
      "Unique even numbers: [2, 4, 6, 8, 10]\n"
     ]
    }
   ],
   "source": [
    "# Initialize a list of even numbers with duplicates\n",
    "even_numbers = [2, 4, 4, 6, 8, 10]\n",
    "\n",
    "# Create an empty list to store unique even numbers\n",
    "unique = []\n",
    "\n",
    "# Loop through each number in the original list\n",
    "for number in even_numbers:\n",
    "    # Check if the number is not already in the unique list\n",
    "    if number not in unique:\n",
    "        # Append the number to the unique list\n",
    "        unique.append(number)\n",
    "\n",
    "# Print the list of unique even numbers\n",
    "print(f'\\nUnique even numbers: {unique}')\n"
   ]
  },
  {
   "attachments": {},
   "cell_type": "markdown",
   "metadata": {},
   "source": [
    "**Organizing a List**\n",
    "* sorting a list **permanently** with the **sort() method**.\n",
    "* sorting a list **temporarily** with the **sorted() function**."
   ]
  },
  {
   "cell_type": "code",
   "execution_count": 14,
   "metadata": {},
   "outputs": [
    {
     "name": "stdout",
     "output_type": "stream",
     "text": [
      " Here is the original list:\n",
      " ['banana', 'apple', 'orange', 'peach', 'pineapple']\n",
      " \n",
      "Here is the sorted list:\n",
      " ['apple', 'banana', 'orange', 'peach', 'pineapple']\n",
      " \n",
      "Here is the reversed sorted list:\n",
      " ['pineapple', 'peach', 'orange', 'banana', 'apple']\n"
     ]
    }
   ],
   "source": [
    "fruits=['banana','apple','orange','peach', 'pineapple']\n",
    "print(f\" Here is the original list:\\n {fruits}\")\n",
    "\n",
    "fruits.sort()                   # Sorting permanently from  A to Z.\n",
    "print(f\" \\nHere is the sorted list:\\n {fruits}\")\n",
    "\n",
    "fruits.sort(reverse=True)       # Sorting permanently from Z to A.\n",
    "print(f\" \\nHere is the reversed sorted list:\\n {fruits}\")"
   ]
  },
  {
   "cell_type": "markdown",
   "metadata": {},
   "source": [
    "**Temporary Sorting**  \n",
    "The 'sorted()' function is used to sort an iterable in ascending order and returns a new sorted list, while leaving the original iterable unchanged."
   ]
  },
  {
   "cell_type": "code",
   "execution_count": 15,
   "metadata": {},
   "outputs": [
    {
     "name": "stdout",
     "output_type": "stream",
     "text": [
      " Here is the original list:\n",
      " ['banana', 'apple', 'orange', 'peach', 'pineapple']\n",
      " \n",
      "Here is the sorted list:\n",
      " ['apple', 'banana', 'orange', 'peach', 'pineapple']\n",
      "\n",
      " Here is the list after sorting:\n",
      " ['banana', 'apple', 'orange', 'peach', 'pineapple']\n"
     ]
    }
   ],
   "source": [
    "fruits=['banana','apple','orange','peach', 'pineapple']\n",
    "print(f\" Here is the original list:\\n {fruits}\")\n",
    "\n",
    "print(\" \\nHere is the sorted list:\\n\", sorted(fruits))  # sorting the list temperorily. Later if we call the list it show the original one.\n",
    "\n",
    "print(\"\\n Here is the list after sorting:\\n\", fruits)"
   ]
  },
  {
   "attachments": {},
   "cell_type": "markdown",
   "metadata": {},
   "source": [
    "**Printing a list in reverse order using the reverse() method**\n",
    "\n",
    "the reverse() method does not sort it alphbetically, it only put the items in a new order from the last to the start."
   ]
  },
  {
   "cell_type": "code",
   "execution_count": 16,
   "metadata": {},
   "outputs": [
    {
     "name": "stdout",
     "output_type": "stream",
     "text": [
      "Here is the original list:\n",
      " ['banana', 'apple', 'orange', 'peach', 'pineapple']\n",
      "\n",
      "Here is the reserved list:\n",
      " ['pineapple', 'peach', 'orange', 'apple', 'banana']\n"
     ]
    }
   ],
   "source": [
    "fruits=['banana','apple','orange','peach', 'pineapple']\n",
    "print(f\"Here is the original list:\\n {fruits}\")\n",
    "\n",
    "fruits.reverse()\n",
    "print(f\"\\nHere is the reserved list:\\n {fruits}\")"
   ]
  },
  {
   "attachments": {},
   "cell_type": "markdown",
   "metadata": {},
   "source": [
    "**Finding the lengh of a list using len() function**"
   ]
  },
  {
   "cell_type": "code",
   "execution_count": 17,
   "metadata": {},
   "outputs": [
    {
     "name": "stdout",
     "output_type": "stream",
     "text": [
      "Here is the list of the fruits:\n",
      " ['banana', 'apple', 'orange', 'peach', 'pineapple']\n",
      "\n",
      "There are 5 different types of fruits in the list.\n"
     ]
    }
   ],
   "source": [
    "fruits=['banana','apple','orange','peach', 'pineapple']\n",
    "print(f\"Here is the list of the fruits:\\n {fruits}\")\n",
    "\n",
    "number_of_items_in_list = len(fruits)\n",
    "print(f\"\\nThere are {number_of_items_in_list} different types of fruits in the list.\")"
   ]
  },
  {
   "attachments": {},
   "cell_type": "markdown",
   "metadata": {},
   "source": [
    "**Avoiding indentation errors**\n",
    "\n",
    "always indent the line after the for statement in a loop. if you forget, Python will remind you:\n",
    "\n",
    "- IndentationError: expected an indented block after 'for' statement on line 4"
   ]
  },
  {
   "cell_type": "code",
   "execution_count": 20,
   "metadata": {},
   "outputs": [
    {
     "ename": "IndentationError",
     "evalue": "expected an indented block after 'for' statement on line 4 (1706127395.py, line 5)",
     "output_type": "error",
     "traceback": [
      "\u001b[1;36m  Cell \u001b[1;32mIn[20], line 5\u001b[1;36m\u001b[0m\n\u001b[1;33m    print(f\"{brand.title()}, that's a great phone brand!\\nI can't wait to see your next model.\\n\")\u001b[0m\n\u001b[1;37m    ^\u001b[0m\n\u001b[1;31mIndentationError\u001b[0m\u001b[1;31m:\u001b[0m expected an indented block after 'for' statement on line 4\n"
     ]
    }
   ],
   "source": [
    "mobile_brands = ['Apple', 'Samsung', 'Huawei', 'Sony', 'Google', 'Nokia']\n",
    "\n",
    "# Loop through each mobile brand\n",
    "for brand in mobile_brands:\n",
    "print(f\"{brand.title()}, that's a great phone brand!\\nI can't wait to see your next model.\\n\")\n"
   ]
  },
  {
   "cell_type": "code",
   "execution_count": 21,
   "metadata": {},
   "outputs": [
    {
     "name": "stdout",
     "output_type": "stream",
     "text": [
      "Apple is not available today, so I will look for another brand.\n"
     ]
    }
   ],
   "source": [
    "mobile_brands = ['Apple', 'Samsung', 'Huawei', 'Sony', 'Google', 'Nokia']  # Python is sensitive to lowercase and uppercase letters\n",
    "\n",
    "# Check for the presence of 'Apple' (case-sensitive)\n",
    "if 'apple' in mobile_brands:\n",
    "    print(\"Apple is the best mobile brand, let's buy the latest model!\")\n",
    "else:\n",
    "    print(\"Apple is not available today, so I will look for another brand.\")\n"
   ]
  },
  {
   "attachments": {},
   "cell_type": "markdown",
   "metadata": {},
   "source": [
    "**Avoid forgetting the Colon**\n",
    "\n",
    "The colon at the end of a for statement tells Python to interpret the next line as the start of a loop.\n",
    "\n",
    "- SyntaxError: expected ':'"
   ]
  },
  {
   "cell_type": "code",
   "execution_count": 24,
   "metadata": {},
   "outputs": [
    {
     "ename": "SyntaxError",
     "evalue": "expected ':' (1237980193.py, line 4)",
     "output_type": "error",
     "traceback": [
      "\u001b[1;36m  Cell \u001b[1;32mIn[24], line 4\u001b[1;36m\u001b[0m\n\u001b[1;33m    for brand in mobile_brands\u001b[0m\n\u001b[1;37m                                           ^\u001b[0m\n\u001b[1;31mSyntaxError\u001b[0m\u001b[1;31m:\u001b[0m expected ':'\n"
     ]
    }
   ],
   "source": [
    "mobile_brands = ['Apple', 'Samsung', 'Huawei', 'Sony', 'Google', 'Nokia']\n",
    "\n",
    "# Loop through each mobile brand \n",
    "for brand in mobile_brands           # SyntaxError: expected ':'   \n",
    "    print(f\"{brand.title()}, that's a great phone brand!\\nI can't wait to see your next model.\\n\")\n"
   ]
  },
  {
   "attachments": {},
   "cell_type": "markdown",
   "metadata": {},
   "source": [
    "**Using the range() function for making Numerical lists**\n"
   ]
  },
  {
   "cell_type": "code",
   "execution_count": 26,
   "metadata": {},
   "outputs": [
    {
     "name": "stdout",
     "output_type": "stream",
     "text": [
      "1\n",
      "2\n",
      "3\n",
      "4\n",
      "5\n",
      "6\n",
      "7\n",
      "8\n",
      "9\n",
      "10\n",
      "11\n"
     ]
    }
   ],
   "source": [
    "for value in range(1, 12):   #if range is from 1 to n, python consider only 1, 2, ...., n-1\n",
    "    print(value)"
   ]
  },
  {
   "cell_type": "markdown",
   "metadata": {},
   "source": [
    "Creating a List of Numbers: The line numbers = list(range(1, 15)) generates a list of integers from 1 to 14 (inclusive) and assigns it to the variable numbers. The range(1, 15) function generates numbers starting from 1 up to, but not including, 15"
   ]
  },
  {
   "cell_type": "code",
   "execution_count": 29,
   "metadata": {},
   "outputs": [
    {
     "name": "stdout",
     "output_type": "stream",
     "text": [
      "Numbers: [1, 2, 3, 4, 5, 6, 7, 8, 9, 10, 11, 12, 13, 14]\n",
      "Even Numbers: [2, 4, 6, 8, 10, 12, 14, 16]\n"
     ]
    }
   ],
   "source": [
    "# generates a list of integers from 1 to 14 (inclusive) and assigns it to the variable numbers.\n",
    "numbers = list(range(1,15))  \n",
    "print('Numbers:', numbers)\n",
    "\n",
    "#makes a list of even numbers starting from 2 and going up to 16 by adding 2 each time.\n",
    "even_numbers = list(range(2,18,2))     #(start, end, steps)\n",
    "print(f\"Even Numbers: {even_numbers}\")"
   ]
  },
  {
   "cell_type": "code",
   "execution_count": 30,
   "metadata": {},
   "outputs": [
    {
     "name": "stdout",
     "output_type": "stream",
     "text": [
      "Squre numbers: [1, 4, 9, 16, 25, 36, 49, 64, 81]\n",
      "cube numbers: [1, 8, 27, 64, 125, 216, 343, 512, 729]\n"
     ]
    }
   ],
   "source": [
    "squares = []\n",
    "cubes = []\n",
    "\n",
    "for n in range(1,10):\n",
    "    squares.append(n**2)\n",
    "    cubes.append(n**3)\n",
    "\n",
    "print(f\"Squre numbers: {squares}\")\n",
    "print(f\"cube numbers: {cubes}\")"
   ]
  },
  {
   "attachments": {},
   "cell_type": "markdown",
   "metadata": {},
   "source": [
    "**List Comprehention**\n",
    "\n",
    "Notice that **no colon** is used at the end of the **for** statment"
   ]
  },
  {
   "cell_type": "code",
   "execution_count": 31,
   "metadata": {},
   "outputs": [
    {
     "name": "stdout",
     "output_type": "stream",
     "text": [
      "Squre numbers: [1, 4, 9, 16, 25, 36, 49, 64, 81, 100]\n"
     ]
    }
   ],
   "source": [
    "squares= [value**2 for value in range(1,11)]\n",
    "print(f\"Squre numbers: {squares}\")"
   ]
  },
  {
   "attachments": {},
   "cell_type": "markdown",
   "metadata": {},
   "source": [
    "**Simple statistics with a list of Numbers**\n",
    "\n",
    "* min()\n",
    "* max()\n",
    "* sum()"
   ]
  },
  {
   "cell_type": "code",
   "execution_count": 34,
   "metadata": {},
   "outputs": [
    {
     "name": "stdout",
     "output_type": "stream",
     "text": [
      "[1, 2, 3, 4, 5, 6, 7, 8, 9]\n",
      "Minimum:  1\n",
      "Maximum: 9\n",
      "Sum:  45\n"
     ]
    }
   ],
   "source": [
    "digits = list(range(1,10))\n",
    "print(digits)\n",
    "\n",
    "print(\"Minimum: \", min(digits))\n",
    "print(f\"Maximum: {max(digits)}\")\n",
    "print(\"Sum: \", sum(digits))"
   ]
  },
  {
   "attachments": {},
   "cell_type": "markdown",
   "metadata": {},
   "source": [
    "**Working with part of a list**\n",
    "\n",
    "* **sliceng a list**: to make a slice, you specify the index of the first and the last elements, which last item is excluded."
   ]
  },
  {
   "cell_type": "code",
   "execution_count": 36,
   "metadata": {},
   "outputs": [
    {
     "name": "stdout",
     "output_type": "stream",
     "text": [
      "Original List:  ['Python', 'Java', 'JavaScript', 'C++', 'Ruby', 'Swift']\n",
      "['Python', 'Java', 'JavaScript']\n",
      "['Java', 'JavaScript', 'C++']\n",
      "['Java', 'JavaScript', 'C++', 'Ruby']\n",
      "['Python', 'Java', 'JavaScript', 'C++']\n",
      "['JavaScript', 'C++', 'Ruby', 'Swift']\n",
      "['Ruby', 'Swift']\n"
     ]
    }
   ],
   "source": [
    "languages = ['Python', 'Java', 'JavaScript', 'C++', 'Ruby', 'Swift']\n",
    "\n",
    "print('Original List: ', languages)\n",
    "print(languages[0:3])      # First three languages\n",
    "print(languages[1:4])      # Languages from index 1 to 3\n",
    "print(languages[1:-1])     # Languages from index 1 to the second-to-last\n",
    "print(languages[:4])        # First four languages\n",
    "print(languages[2:])        # Languages from index 2 to the end\n",
    "print(languages[-2:])       # Last two languages\n"
   ]
  },
  {
   "cell_type": "code",
   "execution_count": 40,
   "metadata": {},
   "outputs": [
    {
     "name": "stdout",
     "output_type": "stream",
     "text": [
      "Here are the first three languages: \n",
      "\t\t\t\t\t Python\n",
      "\t\t\t\t\t Java\n",
      "\t\t\t\t\t Javascript\n"
     ]
    }
   ],
   "source": [
    "languages = ['Python', 'Java', 'JavaScript', 'C++', 'Ruby', 'Swift']\n",
    "\n",
    "print(\"Here are the first three languages: \")\n",
    "for language in languages[0:3]:\n",
    "  print(\"\\t\\t\\t\\t\\t\", language.title())  # each \\t is one tab"
   ]
  },
  {
   "attachments": {},
   "cell_type": "markdown",
   "metadata": {},
   "source": [
    "**Copying a list**\n",
    "- Using list(): Creates a new list by passing the original list as an argument.\n",
    "- Using slicing ([:]): Copies the entire list by slicing it.\n",
    "- Using copy() method: Directly creates a copy of the original list."
   ]
  },
  {
   "cell_type": "code",
   "execution_count": 53,
   "metadata": {},
   "outputs": [
    {
     "name": "stdout",
     "output_type": "stream",
     "text": [
      "Copy using list(): ['red', 'green', 'blue', 'yellow', 'purple']\n",
      "Copy using slicing: ['red', 'green', 'blue', 'yellow', 'purple']\n",
      "Copy using copy() method: ['red', 'green', 'blue', 'yellow', 'purple']\n",
      "\n",
      "Original list after modification: ['red', 'green', 'blue', 'yellow', 'purple', 'orange']\n",
      "colors_copy1 list after modification: ['red', 'green', 'blue', 'yellow', 'purple', 'black']\n",
      "colors_copy2 list after modification: ['red', 'green', 'blue', 'yellow', 'purple', 'purple']\n",
      "colors_copy3 list after modification: ['red', 'green', 'blue', 'yellow', 'purple', 'white']\n"
     ]
    }
   ],
   "source": [
    "colors = ['red', 'green', 'blue', 'yellow', 'purple']\n",
    "\n",
    "# Method 1: Using the list() function to copy\n",
    "colors_copy1 = list(colors)\n",
    "print(\"Copy using list():\", colors_copy1)\n",
    "\n",
    "# Method 2: Using slicing to copy\n",
    "colors_copy2 = colors[:]\n",
    "print(\"Copy using slicing:\", colors_copy2)\n",
    "\n",
    "# Method 3: Using the copy() method\n",
    "colors_copy3 = colors.copy()\n",
    "print(\"Copy using copy() method:\", colors_copy3)\n",
    "\n",
    "#--------------------------------------------------\n",
    "# Modify the original list and copied lists\n",
    "colors.append('orange')\n",
    "colors_copy1.append('black')\n",
    "colors_copy2.append('purple')\n",
    "colors_copy3.append('white')\n",
    "\n",
    "# Print original and copied lists to show they are independent\n",
    "print(\"\\nOriginal list after modification:\", colors)\n",
    "print(\"colors_copy1 list after modification:\", colors_copy1)\n",
    "print(\"colors_copy2 list after modification:\", colors_copy2)\n",
    "print(\"colors_copy3 list after modification:\", colors_copy3)\n"
   ]
  },
  {
   "attachments": {},
   "cell_type": "markdown",
   "metadata": {},
   "source": [
    "**Adding a list to a list**\n",
    "\n",
    "- Using extend(): This method modifies the original list by adding elements from another list directly to it.\n",
    "\n",
    "- Using the + operator: This creates a new list that combines two lists without altering the original lists."
   ]
  },
  {
   "cell_type": "code",
   "execution_count": 52,
   "metadata": {},
   "outputs": [
    {
     "name": "stdout",
     "output_type": "stream",
     "text": [
      "All employees after extending: ['Alice', 'Bob', 'Charlie', 'David', 'Eve']\n",
      "All employees after using + operator: ['Alice', 'Bob', 'Charlie', 'David', 'Eve']\n"
     ]
    }
   ],
   "source": [
    "top3_employees = ['Alice', 'Bob', 'Charlie']\n",
    "additional_employees = ['David', 'Eve']\n",
    "\n",
    "# Using extend() to add additional_employees to top3_employees\n",
    "top3_employees.extend(additional_employees)  # This modifies top3_employees in place\n",
    "all_employees = top3_employees\n",
    "print(\"All employees after extending:\", all_employees)\n",
    "\n",
    "#----------------------------------------------------------\n",
    "# Resetting top3_employees and additional_employees\n",
    "top3_employees = ['Alice', 'Bob', 'Charlie']\n",
    "additional_employees = ['David', 'Eve']\n",
    "\n",
    "# Using + operator to combine lists\n",
    "all_employees = top3_employees + additional_employees\n",
    "print(\"All employees after using + operator:\", all_employees)\n"
   ]
  }
 ],
 "metadata": {
  "kernelspec": {
   "display_name": "Python 3",
   "language": "python",
   "name": "python3"
  },
  "language_info": {
   "codemirror_mode": {
    "name": "ipython",
    "version": 3
   },
   "file_extension": ".py",
   "mimetype": "text/x-python",
   "name": "python",
   "nbconvert_exporter": "python",
   "pygments_lexer": "ipython3",
   "version": "3.10.11"
  },
  "orig_nbformat": 4,
  "vscode": {
   "interpreter": {
    "hash": "7430a396aad0c91b2fcbe17da73f518a311e370e85bb67df1876be8199548bf4"
   }
  }
 },
 "nbformat": 4,
 "nbformat_minor": 2
}
