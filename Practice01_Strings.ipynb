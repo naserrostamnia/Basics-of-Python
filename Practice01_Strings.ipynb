{
 "cells": [
  {
   "cell_type": "markdown",
   "metadata": {},
   "source": [
    "**Key Points About Strings in Python**\n",
    "- Definition: A string is a sequence of characters defined with single (') or double (\") quotes.\n",
    "- Immutability: Strings are immutable; once created, their content cannot be changed.\n",
    "- Concatenation: Use the + operator to combine strings.\n",
    "- Repetition: Use the * operator to repeat strings multiple times.\n",
    "\n",
    "- Built-in Methods:\n",
    "  - strip(): Removes spaces from the start and end of a string.\n",
    "  - upper(): Converts to uppercase.\n",
    "  - lower(): Converts to lowercase.\n",
    "  - split(delimiter): Splits a string into a list based on the specified delimiter.\n",
    "  - replace(old, new): Replaces occurrences of a substring with another substring.\n",
    "  - len(): Returns the length of the string.\n",
    "\n",
    "- Indexing and Slicing: Access individual characters or create substrings using indices.\n",
    "- Versatility: Strings are essential for handling textual data in programming."
   ]
  },
  {
   "attachments": {},
   "cell_type": "markdown",
   "metadata": {},
   "source": [
    "**Using strip(), lstrip() and rstrip()**"
   ]
  },
  {
   "attachments": {},
   "cell_type": "markdown",
   "metadata": {},
   "source": [
    "The strip() function gives you a new string by removing any spaces at the beginning and end.\n"
   ]
  },
  {
   "cell_type": "code",
   "execution_count": 1,
   "metadata": {},
   "outputs": [
    {
     "data": {
      "text/plain": [
       "'Python'"
      ]
     },
     "execution_count": 1,
     "metadata": {},
     "output_type": "execute_result"
    }
   ],
   "source": [
    "message = \"     Python   \"\n",
    "message.strip()"
   ]
  },
  {
   "attachments": {},
   "cell_type": "markdown",
   "metadata": {},
   "source": [
    "The `lstrip()` function gives you a new string by removing any spaces at the start."
   ]
  },
  {
   "cell_type": "code",
   "execution_count": 2,
   "metadata": {},
   "outputs": [
    {
     "data": {
      "text/plain": [
       "'Python   '"
      ]
     },
     "execution_count": 2,
     "metadata": {},
     "output_type": "execute_result"
    }
   ],
   "source": [
    "message = \"     Python   \"\n",
    "message.lstrip()"
   ]
  },
  {
   "attachments": {},
   "cell_type": "markdown",
   "metadata": {},
   "source": [
    "The `rstrip()` function gives you a new string by removing any spaces at the end."
   ]
  },
  {
   "cell_type": "code",
   "execution_count": 3,
   "metadata": {},
   "outputs": [
    {
     "data": {
      "text/plain": [
       "'     Python'"
      ]
     },
     "execution_count": 3,
     "metadata": {},
     "output_type": "execute_result"
    }
   ],
   "source": [
    "message = \"     Python   \"\n",
    "message.rstrip()"
   ]
  },
  {
   "cell_type": "markdown",
   "metadata": {},
   "source": [
    "**Using Variables in a Text with f-Strings**\n",
    "\n",
    "To use variables in a string, add an f before the opening quotation mark. Then, put the variable names inside curly braces {}."
   ]
  },
  {
   "cell_type": "code",
   "execution_count": 4,
   "metadata": {},
   "outputs": [
    {
     "name": "stdout",
     "output_type": "stream",
     "text": [
      "My name is Naser Rostamnia.\n",
      "Hello, my name is Naser and I work as a Data Scientist.\n"
     ]
    }
   ],
   "source": [
    "first_name = 'Naser'\n",
    "last_name = 'Rostamnia'\n",
    "profession = \"Data Scientist\"\n",
    "\n",
    "print(f'My name is {first_name} {last_name}.')\n",
    "\n",
    "greeting = f\"Hello, my name is {first_name} and I work as a {profession}.\"\n",
    "print(greeting)"
   ]
  },
  {
   "attachments": {},
   "cell_type": "markdown",
   "metadata": {},
   "source": [
    "**Exploring String Methods: title(), upper(), and lower()**\n",
    "\n",
    "- title(): This method returns a new string where the first letter of each word is capitalized, and all other letters are in lowercase.\n",
    "- upper(): This method converts all the characters in a string to uppercase letters. \n",
    "- lower(): This method converts all the characters in a string to lowercase letters."
   ]
  },
  {
   "cell_type": "code",
   "execution_count": 5,
   "metadata": {},
   "outputs": [
    {
     "name": "stdout",
     "output_type": "stream",
     "text": [
      "first_name.title(): Naser Rostamnia\n",
      "first_name.upper(): NASER\n",
      "first_name.lower(): naser\n",
      "last_name.upper(): ROSTAMNIA\n",
      "last_name.lower(): rostamnia\n"
     ]
    }
   ],
   "source": [
    "first_name = \"naSER\"\n",
    "last_name = \"RosTAmnia\"\n",
    "full_name = first_name.title() + \" \" + last_name.title()\n",
    "print(f'first_name.title(): {full_name}')\n",
    "\n",
    "print(f'first_name.upper(): {first_name.upper()}')\n",
    "print(f'first_name.lower(): {first_name.lower()}')\n",
    "\n",
    "print(f'last_name.upper(): {last_name.upper()}')\n",
    "print(f'last_name.lower(): {last_name.lower()}')"
   ]
  },
  {
   "attachments": {},
   "cell_type": "markdown",
   "metadata": {},
   "source": [
    "**Writing a String with Multiple Lines**\n",
    "\n",
    "- You can use either triple double quotes \"\"\"...\"\"\" or triple single quotes '''...''' to create multi-line strings.\n",
    "\n",
    "- New Line Character: \\n creates a new line within the string.\n",
    "\n",
    "- Tab Character: \\t adds a tab space in the string."
   ]
  },
  {
   "cell_type": "code",
   "execution_count": 6,
   "metadata": {},
   "outputs": [
    {
     "name": "stdout",
     "output_type": "stream",
     "text": [
      "\n",
      " Languages: \n",
      " \t Python\n",
      " \t C++\n",
      " \t Javascript\n",
      " \t Passcal \n"
     ]
    }
   ],
   "source": [
    "favorite_language = \"\"\"\n",
    " Languages: \n",
    " \\t Python\n",
    " \\t C++\n",
    " \\t Javascript\n",
    " \\t Passcal \"\"\"\n",
    "\n",
    "print(favorite_language)"
   ]
  },
  {
   "cell_type": "code",
   "execution_count": 7,
   "metadata": {},
   "outputs": [
    {
     "name": "stdout",
     "output_type": "stream",
     "text": [
      "\n",
      " Languages: \n",
      " \t Python\n",
      " \t C++\n",
      " \t Javascript\n",
      " \t Passcal \n"
     ]
    }
   ],
   "source": [
    "favorite_language = '''\n",
    " Languages: \n",
    " \\t Python\n",
    " \\t C++\n",
    " \\t Javascript\n",
    " \\t Passcal '''\n",
    "\n",
    "print(favorite_language)"
   ]
  },
  {
   "cell_type": "code",
   "execution_count": 8,
   "metadata": {},
   "outputs": [
    {
     "name": "stdout",
     "output_type": "stream",
     "text": [
      " Languages: \n",
      "\t Python\n",
      "\t C++\n",
      "\t Javascript\n",
      "\t Passcal\n"
     ]
    }
   ],
   "source": [
    "favorite_language= \" Languages: \\n\\t Python\\n\\t C++\\n\\t Javascript\\n\\t Passcal\"\n",
    "print(favorite_language)"
   ]
  },
  {
   "attachments": {},
   "cell_type": "markdown",
   "metadata": {},
   "source": [
    "**Accessing and slicing string elements**\n",
    "\n",
    "Accessing:\n",
    "\n",
    "Since a string is a sequence of characters, you can access its elements using an index. \n",
    "- The first character in the string has an index of zero.\n",
    "- If you use a negative index, Python returns the character starting from the end of the string.\n",
    "\n",
    "Slicing:\n",
    "- The string[3:8] returns a substring, characters from index 3 (included) to 8 (excluded).\n",
    "\n",
    "Length:\n",
    "- use len() to find the length of the string."
   ]
  },
  {
   "cell_type": "code",
   "execution_count": 9,
   "metadata": {},
   "outputs": [
    {
     "name": "stdout",
     "output_type": "stream",
     "text": [
      "Name: Rostamnia\n",
      "First character (name[0]): R\n",
      "Second character (name[1]): o\n",
      "Last character (name[-1]): a\n",
      "Second to last character (name[-2]): i\n",
      "Characters from index 2 to -2 (name[2:-2]): stamn\n",
      "The length of the name is 9 characters.\n"
     ]
    }
   ],
   "source": [
    "name = \"Rostamnia\"\n",
    "print(f\"Name: {name}\")\n",
    "\n",
    "print(f\"First character (name[0]): {name[0]}\")\n",
    "print(f\"Second character (name[1]): {name[1]}\")\n",
    "print(f\"Last character (name[-1]): {name[-1]}\")\n",
    "print(f\"Second to last character (name[-2]): {name[-2]}\")\n",
    "print(f\"Characters from index 2 to -2 (name[2:-2]): {name[2:-2]}\")\n",
    "\n",
    "# Calculating and displaying the length of the name\n",
    "name_length = len(name)\n",
    "print(f\"The length of the name is {name_length} characters.\")"
   ]
  },
  {
   "attachments": {},
   "cell_type": "markdown",
   "metadata": {},
   "source": [
    "**Python Strings Are Immutable**\n",
    "\n",
    "Python strings are immutable, which means you cannot change the string once it is created. If you try to update one or more characters in a string will result in an error."
   ]
  },
  {
   "cell_type": "code",
   "execution_count": 11,
   "metadata": {},
   "outputs": [
    {
     "ename": "TypeError",
     "evalue": "'str' object does not support item assignment",
     "output_type": "error",
     "traceback": [
      "\u001b[1;31m---------------------------------------------------------------------------\u001b[0m",
      "\u001b[1;31mTypeError\u001b[0m                                 Traceback (most recent call last)",
      "Cell \u001b[1;32mIn[11], line 3\u001b[0m\n\u001b[0;32m      1\u001b[0m \u001b[38;5;28mstr\u001b[39m \u001b[38;5;241m=\u001b[39m \u001b[38;5;124m\"\u001b[39m\u001b[38;5;124mData Science\u001b[39m\u001b[38;5;124m\"\u001b[39m\n\u001b[1;32m----> 3\u001b[0m \u001b[38;5;28;43mstr\u001b[39;49m\u001b[43m[\u001b[49m\u001b[38;5;241;43m0\u001b[39;49m\u001b[43m]\u001b[49m \u001b[38;5;241m=\u001b[39m \u001b[38;5;124m'\u001b[39m\u001b[38;5;124mM\u001b[39m\u001b[38;5;124m'\u001b[39m  \u001b[38;5;66;03m# This will raise an error\u001b[39;00m\n",
      "\u001b[1;31mTypeError\u001b[0m: 'str' object does not support item assignment"
     ]
    }
   ],
   "source": [
    "str = \"Data Science\"\n",
    "\n",
    "str[0] = 'M'  # This will raise an error"
   ]
  },
  {
   "cell_type": "code",
   "execution_count": 12,
   "metadata": {},
   "outputs": [
    {
     "name": "stdout",
     "output_type": "stream",
     "text": [
      "Str: Data Science\n",
      "New_str: Mata Science\n"
     ]
    }
   ],
   "source": [
    "str = \"Data Science\"\n",
    "print(f'Str: {str}')\n",
    "\n",
    "new_str = \"M\" + str[1:]\n",
    "print(f\"New_str: {new_str}\")"
   ]
  },
  {
   "cell_type": "markdown",
   "metadata": {},
   "source": [
    "**Replacing Characters in a String**\n",
    "\n",
    "you can use the replace() method of a string object to replace all occurrences of a specified substring with another substring."
   ]
  },
  {
   "cell_type": "code",
   "execution_count": 13,
   "metadata": {},
   "outputs": [
    {
     "name": "stdout",
     "output_type": "stream",
     "text": [
      "'a' replaced by 'A': An Apple A dAy, keeps the doctor AwAy.\n"
     ]
    }
   ],
   "source": [
    "# Original string\n",
    "original_string = \"An apple a day, keeps the doctor away.\"\n",
    "\n",
    "# Replace 'a' with 'A'\n",
    "modified_string = original_string.replace('a', 'A')\n",
    "\n",
    "# Print the result\n",
    "print(f\"'a' replaced by 'A': {modified_string}\")\n"
   ]
  },
  {
   "cell_type": "code",
   "execution_count": 14,
   "metadata": {},
   "outputs": [
    {
     "name": "stdout",
     "output_type": "stream",
     "text": [
      "'s' replaced by 'ss': Nasser\n"
     ]
    }
   ],
   "source": [
    "# Original string\n",
    "original_string = \"Naser\"\n",
    "\n",
    "# Replace 's' with 'ss'\n",
    "modified_string = original_string.replace('s', 'ss')\n",
    "\n",
    "# Print the result\n",
    "print(f\"'s' replaced by 'ss': {modified_string}\")"
   ]
  },
  {
   "attachments": {},
   "cell_type": "markdown",
   "metadata": {},
   "source": [
    "**Looping Through a String**\n",
    "\n",
    " Strings can be treated like arrays (or lists) of characters. This allows you to loop through each character in the string using a for loop. "
   ]
  },
  {
   "cell_type": "code",
   "execution_count": 15,
   "metadata": {},
   "outputs": [
    {
     "name": "stdout",
     "output_type": "stream",
     "text": [
      "N\n",
      "a\n",
      "s\n",
      "e\n",
      "r\n",
      " \n",
      "R\n",
      "o\n",
      "s\n",
      "t\n",
      "a\n",
      "m\n",
      "n\n",
      "i\n",
      "a\n"
     ]
    }
   ],
   "source": [
    "for char in \"Naser Rostamnia\":\n",
    "    print(char)"
   ]
  },
  {
   "attachments": {},
   "cell_type": "markdown",
   "metadata": {},
   "source": [
    "**Checking characters in a String**\n",
    "\n",
    "To check whether or not a certain phrase/character is exist in a string, we can use the keyword 'in' and 'not in'. \n",
    "\n",
    "Note: Python is sensetive to small and capital letters"
   ]
  },
  {
   "cell_type": "code",
   "execution_count": null,
   "metadata": {},
   "outputs": [],
   "source": [
    "text = \"Python is an amaizing programing language\"\n",
    "print(\"text: \", text)\n",
    "print(\"language\" in text)\n",
    "print(\"Language\" in text)       # with capital 'L'"
   ]
  },
  {
   "cell_type": "code",
   "execution_count": 16,
   "metadata": {},
   "outputs": [
    {
     "name": "stdout",
     "output_type": "stream",
     "text": [
      "The phrase 'Python' exists in the string.\n",
      "The character 'H' exists in the string.\n",
      "The phrase 'Java' is not in the string.\n"
     ]
    }
   ],
   "source": [
    "my_string = \"Hello, welcome to the world of Python!\"\n",
    "\n",
    "# Check if a certain phrase or character exists in the string\n",
    "phrase = \"Python\"   # with capital 'P'\n",
    "char = \"H\"\n",
    "\n",
    "if phrase in my_string:\n",
    "    print(f\"The phrase '{phrase}' exists in the string.\")\n",
    "else:\n",
    "    print(f\"The phrase '{phrase}' does not exist in the string.\")\n",
    "\n",
    "if char in my_string:\n",
    "    print(f\"The character '{char}' exists in the string.\")\n",
    "else:\n",
    "    print(f\"The character '{char}' does not exist in the string.\")\n",
    "\n",
    "# Check if a phrase or character does NOT exist in the string\n",
    "if \"Java\" not in my_string:\n",
    "    print(\"The phrase 'Java' is not in the string.\")\n"
   ]
  },
  {
   "cell_type": "markdown",
   "metadata": {},
   "source": [
    "**concatenating strings using the + operator**"
   ]
  },
  {
   "cell_type": "code",
   "execution_count": 33,
   "metadata": {},
   "outputs": [
    {
     "name": "stdout",
     "output_type": "stream",
     "text": [
      "str1 + str2:  Hello World\n"
     ]
    }
   ],
   "source": [
    "str1 = \"Hello\"\n",
    "str2 = \"World\"\n",
    "result = str1 + \" \" + str2  \n",
    "\n",
    "print('str1 + str2: ', result)\n"
   ]
  },
  {
   "attachments": {},
   "cell_type": "markdown",
   "metadata": {},
   "source": [
    "**Repeating string**\n",
    "\n",
    "using the * operator with a string and a number (n) will repeat the string n times. in other words,\n",
    "string * n  meanse repeat the string n times."
   ]
  },
  {
   "cell_type": "code",
   "execution_count": 17,
   "metadata": {},
   "outputs": [
    {
     "data": {
      "text/plain": [
       "'HiHiHiHiHiHiHiHiHiHi'"
      ]
     },
     "execution_count": 17,
     "metadata": {},
     "output_type": "execute_result"
    }
   ],
   "source": [
    "\"Hi\" * 10"
   ]
  },
  {
   "attachments": {},
   "cell_type": "markdown",
   "metadata": {},
   "source": [
    "**Splitting strings**\n",
    "\n",
    "The split() method splits a string into a list. You can specify the separator, default separator is any whitespace."
   ]
  },
  {
   "cell_type": "code",
   "execution_count": 23,
   "metadata": {},
   "outputs": [
    {
     "data": {
      "text/plain": [
       "['The', 'sun', 'is', 'shining', 'brightly', 'today']"
      ]
     },
     "execution_count": 23,
     "metadata": {},
     "output_type": "execute_result"
    }
   ],
   "source": [
    "str = \"The sun is shining brightly today\"\n",
    "str.split(\" \")"
   ]
  },
  {
   "cell_type": "code",
   "execution_count": 24,
   "metadata": {},
   "outputs": [
    {
     "data": {
      "text/plain": [
       "['THE', 'SUN', 'IS', 'SHINING', 'BRIGHTLY', 'TODAY']"
      ]
     },
     "execution_count": 24,
     "metadata": {},
     "output_type": "execute_result"
    }
   ],
   "source": [
    "str = \"The sun is shining brightly today\"\n",
    "str.upper().split(\" \")  # it splits the string by spaces into a list of words and converts the entire string to uppercase."
   ]
  },
  {
   "cell_type": "code",
   "execution_count": 25,
   "metadata": {},
   "outputs": [
    {
     "data": {
      "text/plain": [
       "'THE'"
      ]
     },
     "execution_count": 25,
     "metadata": {},
     "output_type": "execute_result"
    }
   ],
   "source": [
    "str = \"The sun is shining brightly today\"\n",
    "str.upper().split(\" \")[0]    # it retures the fist item in the list."
   ]
  },
  {
   "cell_type": "markdown",
   "metadata": {},
   "source": [
    "The split(\"i\") method, splits the string wherever the character \"i\" appears, and the resulting list will contain everything that was between the \"i\" characters."
   ]
  },
  {
   "cell_type": "code",
   "execution_count": 26,
   "metadata": {},
   "outputs": [
    {
     "data": {
      "text/plain": [
       "['The sun ', 's sh', 'n', 'ng br', 'ghtly today']"
      ]
     },
     "execution_count": 26,
     "metadata": {},
     "output_type": "execute_result"
    }
   ],
   "source": [
    "str = \"The sun is shining brightly today\"    \n",
    "str.split(\"i\")           "
   ]
  },
  {
   "attachments": {},
   "cell_type": "markdown",
   "metadata": {},
   "source": [
    "**Finding sub strings**"
   ]
  },
  {
   "cell_type": "code",
   "execution_count": 29,
   "metadata": {},
   "outputs": [
    {
     "data": {
      "text/plain": [
       "4"
      ]
     },
     "execution_count": 29,
     "metadata": {},
     "output_type": "execute_result"
    }
   ],
   "source": [
    "str = \"The sun is shining brightly today\"    \n",
    "str.find(\"sun\")           # it returns the position of the first char of \"sun\""
   ]
  },
  {
   "cell_type": "code",
   "execution_count": 37,
   "metadata": {},
   "outputs": [
    {
     "name": "stdout",
     "output_type": "stream",
     "text": [
      " The preson you want to know about is Mr. Naser Rostamnia. He is 36 years old and his profession is Data Scientist\n"
     ]
    }
   ],
   "source": [
    "first_name = input(\" Enter Your First Name: \")\n",
    "last_name = input(\" Enter Your Last Name: \")\n",
    "gender = input(\" Enter M for Male and F for Female: \")\n",
    "age = input(\"Enter Your Age: \")\n",
    "profession = input(\"Enter Your Profission: \")\n",
    "\n",
    "if gender == \"M\":\n",
    "    title = \"Mr.\"\n",
    "    sex = \"his\"\n",
    "    pronoun = \"he\"\n",
    "else:\n",
    "    title = \"Ms.\"\n",
    "    sex = \"her\"\n",
    "    pronoun = \"she\"\n",
    "\n",
    "print(f\" The preson you want to know about is {title} {first_name} {last_name}. {pronoun.title()} is {age} years old and {sex} profession is {profession}\")"
   ]
  }
 ],
 "metadata": {
  "kernelspec": {
   "display_name": "Python 3",
   "language": "python",
   "name": "python3"
  },
  "language_info": {
   "codemirror_mode": {
    "name": "ipython",
    "version": 3
   },
   "file_extension": ".py",
   "mimetype": "text/x-python",
   "name": "python",
   "nbconvert_exporter": "python",
   "pygments_lexer": "ipython3",
   "version": "3.10.11"
  },
  "orig_nbformat": 4,
  "vscode": {
   "interpreter": {
    "hash": "7430a396aad0c91b2fcbe17da73f518a311e370e85bb67df1876be8199548bf4"
   }
  }
 },
 "nbformat": 4,
 "nbformat_minor": 2
}
