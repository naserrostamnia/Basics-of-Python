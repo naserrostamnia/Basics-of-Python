{
 "cells": [
  {
   "attachments": {},
   "cell_type": "markdown",
   "metadata": {},
   "source": [
    "# Sets\n",
    "\n",
    "**A set is an unordered, unindexed collection of immutable objects that does not allow duplicate values:**\n",
    "\n",
    "- Unordered: The elements in a set do not have a specific order. This means you cannot access elements by index (like you would in a list).\n",
    "- Unique Elements: Sets do not allow duplicate values. If you try to add a duplicate, it will be ignored.\n",
    "- Immutable Elements: Sets can only contain immutable (unchangeable) objects. Common immutable types include integers, floats, strings, and tuples.\n",
    "- Definition: A Set is defined using curly brackets: s = {1, 2, 3, 4}\n",
    "- Nesting Limitations: You cannot include mutable objects, such as lists or other sets, within a set.\n",
    "\n",
    "    - Mutable: Can be modified (e.g., lists, dictionaries).\n",
    "    - Immutable: Cannot be modified (e.g., tuples, strings).\n",
    "\n",
    "\n",
    "**Common Set Operations:**\n",
    "- Union: Combine elements from two sets.\n",
    "- Intersection: Get common elements between sets.\n",
    "- Difference: Get elements unique to one set.\n",
    "- Symmetric Difference: Get elements in either set but not in both."
   ]
  },
  {
   "attachments": {},
   "cell_type": "markdown",
   "metadata": {},
   "source": [
    "**Checking for presence of an element**"
   ]
  },
  {
   "cell_type": "code",
   "execution_count": 6,
   "metadata": {},
   "outputs": [
    {
     "name": "stdout",
     "output_type": "stream",
     "text": [
      "True\n"
     ]
    }
   ],
   "source": [
    "set01 = {1, 2, 3, 4}\n",
    "print( 1 in set01)"
   ]
  },
  {
   "attachments": {},
   "cell_type": "markdown",
   "metadata": {},
   "source": [
    "**Adding an item to a set**"
   ]
  },
  {
   "cell_type": "code",
   "execution_count": 2,
   "metadata": {},
   "outputs": [
    {
     "name": "stdout",
     "output_type": "stream",
     "text": [
      "Original set: {2, 3, 5, 7, 11}\n",
      "Updated set: {2, 3, 5, 7, 11, 13}\n"
     ]
    }
   ],
   "source": [
    "# Define a set with prime numbers\n",
    "my_set = {2, 3, 5, 7, 11}\n",
    "print(\"Original set:\", my_set)\n",
    "\n",
    "# Add a new element (13) to the set\n",
    "my_set.add(13)\n",
    "print(\"Updated set:\", my_set)"
   ]
  },
  {
   "cell_type": "code",
   "execution_count": 3,
   "metadata": {},
   "outputs": [
    {
     "name": "stdout",
     "output_type": "stream",
     "text": [
      "Set using for loop: {1, 2, 3, 5, 7, 8, 9}\n",
      "Set using comprehension: {1, 2, 3, 5, 7, 8, 9}\n"
     ]
    }
   ],
   "source": [
    "# List of numbers with duplicates\n",
    "nums = [1, 1, 1, 2, 2, 3, 3, 5, 5, 7, 7, 8, 9, 9]\n",
    "\n",
    "# Create an empty set and add unique elements from the list\n",
    "my_set = set()\n",
    "for n in nums:\n",
    "    my_set.add(n)\n",
    "print(\"Set using for loop:\", my_set)\n",
    "\n",
    "# Using set comprehension to achieve the same result in a more concise way\n",
    "my_set = {n for n in nums}    # Set comprehension: eliminates duplicates\n",
    "print(\"Set using comprehension:\", my_set)\n"
   ]
  },
  {
   "attachments": {},
   "cell_type": "markdown",
   "metadata": {},
   "source": [
    "**Adding multiple items to a set**\n",
    "\n",
    "The 'update()' method adds elements from the provided iterable (like a list, set, or tuple) to the set, and any duplicate elements are ignored because sets don't allow duplicates."
   ]
  },
  {
   "cell_type": "code",
   "execution_count": 4,
   "metadata": {},
   "outputs": [
    {
     "name": "stdout",
     "output_type": "stream",
     "text": [
      "Original set: {1, 2, 3, 4}\n",
      "Updated set after adding [2, 4, 6, 8]: {1, 2, 3, 4, 6, 8}\n"
     ]
    }
   ],
   "source": [
    "# Initial set\n",
    "set01 = {1, 2, 3, 4}\n",
    "print(\"Original set:\", set01)\n",
    "\n",
    "# Adding multiple items to the set using update (duplicates will be ignored)\n",
    "set01.update([2, 4, 6, 8])\n",
    "print(\"Updated set after adding [2, 4, 6, 8]:\", set01)\n"
   ]
  },
  {
   "attachments": {},
   "cell_type": "markdown",
   "metadata": {},
   "source": [
    "**Removing an Item from set**\n",
    "\n",
    "If the element you want to remove 'does not exist' in the set, the 'remove()' method will raise a KeyError."
   ]
  },
  {
   "cell_type": "code",
   "execution_count": 12,
   "metadata": {},
   "outputs": [
    {
     "name": "stdout",
     "output_type": "stream",
     "text": [
      "Original set: {1, 2, 3, 4}\n",
      "Set after removing 4: {1, 2, 3}\n"
     ]
    }
   ],
   "source": [
    "# Initial set\n",
    "set01 = {1, 2, 3, 4}\n",
    "print(\"Original set:\", set01)\n",
    "\n",
    "# Removing an element (4) from the set\n",
    "set01.remove(4)\n",
    "print(\"Set after removing 4:\", set01)"
   ]
  },
  {
   "cell_type": "code",
   "execution_count": 13,
   "metadata": {},
   "outputs": [
    {
     "name": "stdout",
     "output_type": "stream",
     "text": [
      "Original set: {1, 2, 3, 4}\n"
     ]
    },
    {
     "ename": "KeyError",
     "evalue": "5",
     "output_type": "error",
     "traceback": [
      "\u001b[1;31m---------------------------------------------------------------------------\u001b[0m",
      "\u001b[1;31mKeyError\u001b[0m                                  Traceback (most recent call last)",
      "Cell \u001b[1;32mIn[13], line 7\u001b[0m\n\u001b[0;32m      3\u001b[0m \u001b[38;5;28mprint\u001b[39m(\u001b[38;5;124m\"\u001b[39m\u001b[38;5;124mOriginal set:\u001b[39m\u001b[38;5;124m\"\u001b[39m, set01)\n\u001b[0;32m      5\u001b[0m \u001b[38;5;66;03m# Attempt to discard the element 5 (which is not in the set)\u001b[39;00m\n\u001b[0;32m      6\u001b[0m \u001b[38;5;66;03m# discard() doesn't raise an error if the element is not present\u001b[39;00m\n\u001b[1;32m----> 7\u001b[0m \u001b[43mset01\u001b[49m\u001b[38;5;241;43m.\u001b[39;49m\u001b[43mremove\u001b[49m\u001b[43m(\u001b[49m\u001b[38;5;241;43m5\u001b[39;49m\u001b[43m)\u001b[49m\n\u001b[0;32m      8\u001b[0m \u001b[38;5;28mprint\u001b[39m(\u001b[38;5;124m\"\u001b[39m\u001b[38;5;124mSet after attempting to discard 5:\u001b[39m\u001b[38;5;124m\"\u001b[39m, set01)\n",
      "\u001b[1;31mKeyError\u001b[0m: 5"
     ]
    }
   ],
   "source": [
    "# Initial set\n",
    "set01 = {1, 2, 3, 4}\n",
    "print(\"Original set:\", set01)\n",
    "\n",
    "# Attempt to remove the element 5 (which is not in the set)\n",
    "# remove()  raise an error if the element is not exist\n",
    "set01.remove(5)\n",
    "print(\"Set after attempting to discard 5:\", set01)"
   ]
  },
  {
   "cell_type": "markdown",
   "metadata": {},
   "source": [
    "To avoid the above mentioned possible ERROR, you can use the discard() method, which removes the element if it's present but doesn't raise an error if it's not."
   ]
  },
  {
   "cell_type": "code",
   "execution_count": 14,
   "metadata": {},
   "outputs": [
    {
     "name": "stdout",
     "output_type": "stream",
     "text": [
      "Original set: {1, 2, 3, 4}\n",
      "Set after attempting to discard 5: {1, 2, 3, 4}\n"
     ]
    }
   ],
   "source": [
    "# Initial set\n",
    "set01 = {1, 2, 3, 4}\n",
    "print(\"Original set:\", set01)\n",
    "\n",
    "# Attempt to discard the element 5 (which is not in the set)\n",
    "# discard() doesn't raise an error if the element is not present\n",
    "set01.discard(5)\n",
    "print(\"Set after attempting to discard 5:\", set01)"
   ]
  },
  {
   "attachments": {
    "image-2.png": {
     "image/png": "[encoded data removed]"
    }
   },
   "cell_type": "markdown",
   "metadata": {},
   "source": [
    "**Set Operations**\n",
    "\n",
    "\n",
    "![image.png](attachment:image-2.png)"
   ]
  },
  {
   "attachments": {},
   "cell_type": "markdown",
   "metadata": {},
   "source": [
    "**Union**\n",
    "\n",
    "- The union() method returns a new set that contains all unique elements from both sets. Since sets automatically remove duplicates, you only see unique elements in the result.\n",
    "\n",
    "- The or operator doesn't perform a union. Instead, it returns the first non-empty set, otherwise, it returns the second not-empty set."
   ]
  },
  {
   "cell_type": "code",
   "execution_count": 10,
   "metadata": {},
   "outputs": [
    {
     "name": "stdout",
     "output_type": "stream",
     "text": [
      "{1, 2, 3, 4, 5, 6}\n",
      "{1, 2, 3, 4, 5, 6}\n",
      "{2, 4, 5, 6}\n",
      "{1, 2, 3, 5}\n"
     ]
    }
   ],
   "source": [
    "s1 = {1, 2, 3, 5}\n",
    "s2 = {2, 4, 6, 5}\n",
    "\n",
    "# combines elements from both sets without duplicates\n",
    "print(s1.union(s2))\n",
    "print(s2.union(s1))\n",
    "\n",
    "\n",
    "print(s2 or s1)     # returns s2 because 'or' returns the first non-empty set\n",
    "print(s1 or s2)     # returns s1 because 'or' returns the first non-empty set"
   ]
  },
  {
   "attachments": {},
   "cell_type": "markdown",
   "metadata": {},
   "source": [
    "**Intersection**\n",
    "\n",
    "- The intersection() method returns a new set that contains only the elements that are present in both sets.\n",
    "- The & operator is a shorthand for intersection() and works exactly the same way, returning the common elements."
   ]
  },
  {
   "cell_type": "code",
   "execution_count": 16,
   "metadata": {},
   "outputs": [
    {
     "name": "stdout",
     "output_type": "stream",
     "text": [
      "{2, 5}\n",
      "{2, 5}\n",
      "{2, 5}\n",
      "{2, 5}\n"
     ]
    }
   ],
   "source": [
    "s1 = {1, 2, 3, 5}\n",
    "s2 = {2, 4, 6, 5}\n",
    "\n",
    "# Intersection of sets s1 and s2: common elements between the two sets\n",
    "print(s1.intersection(s2))\n",
    "print(s2.intersection(s1))\n",
    "\n",
    "# Using the '&' operator to find the intersection (alternative way)\n",
    "print(s1 & s2)\n",
    "print(s2 & s1)"
   ]
  },
  {
   "attachments": {},
   "cell_type": "markdown",
   "metadata": {},
   "source": [
    "**Diffrence**"
   ]
  },
  {
   "cell_type": "code",
   "execution_count": 17,
   "metadata": {},
   "outputs": [
    {
     "name": "stdout",
     "output_type": "stream",
     "text": [
      "{1, 3}\n",
      "{4, 6}\n",
      "{1, 3}\n",
      "{4, 6}\n"
     ]
    }
   ],
   "source": [
    "s1 = {1, 2, 3, 5}\n",
    "s2 = {2, 4, 6, 5}\n",
    "\n",
    "# Difference of sets s1 and s2: \n",
    "print(s1.difference(s2))        # elements in s1 that are not in s2\n",
    "print(s2.difference(s1))        # elements in s2 that are not in s1\n",
    "\n",
    "# Using the '-' operator to find the difference (alternative way)\n",
    "print(s1 - s2)\n",
    "print(s2 - s1)"
   ]
  },
  {
   "attachments": {},
   "cell_type": "markdown",
   "metadata": {},
   "source": [
    "**Symmetric Difference**\n",
    "- The symmetric_difference() method returns a new set containing elements that are in either sets, but not in both.\n",
    "- The ^ operator is a shorthand for symmetric_difference(), performing the same operation and producing the same result."
   ]
  },
  {
   "cell_type": "code",
   "execution_count": 18,
   "metadata": {},
   "outputs": [
    {
     "name": "stdout",
     "output_type": "stream",
     "text": [
      "{1, 3, 4, 6}\n",
      "{1, 3, 4, 6}\n",
      "{1, 3, 4, 6}\n",
      "{1, 3, 4, 6}\n"
     ]
    }
   ],
   "source": [
    "s1 = {1, 2, 3, 5}\n",
    "s2 = {2, 4, 6, 5}\n",
    "\n",
    "# Symmetric difference of sets s1 and s2: elements in either set but not in both\n",
    "print(s1.symmetric_difference(s2))\n",
    "print(s2.symmetric_difference(s1))\n",
    "\n",
    "# Using the '^' operator to find the symmetric difference (alternative way)\n",
    "print(s1 ^ s2)\n",
    "print(s2 ^ s1)"
   ]
  },
  {
   "cell_type": "code",
   "execution_count": 20,
   "metadata": {},
   "outputs": [
    {
     "name": "stdout",
     "output_type": "stream",
     "text": [
      "{1, 3, 4, 6}\n",
      "set()\n"
     ]
    }
   ],
   "source": [
    "s1 = {1, 2, 3, 5}\n",
    "s2 = {2, 4, 6, 5}\n",
    "\n",
    "print((s1 - s2) | (s2 -s1))    # The union (|) combines all unique elements from the differences.\n",
    "print((s1 - s2) & (s2 -s1))   # The intersection (&) finds common elements from the differences."
   ]
  }
 ],
 "metadata": {
  "kernelspec": {
   "display_name": "Python 3",
   "language": "python",
   "name": "python3"
  },
  "language_info": {
   "codemirror_mode": {
    "name": "ipython",
    "version": 3
   },
   "file_extension": ".py",
   "mimetype": "text/x-python",
   "name": "python",
   "nbconvert_exporter": "python",
   "pygments_lexer": "ipython3",
   "version": "3.10.11"
  },
  "orig_nbformat": 4,
  "vscode": {
   "interpreter": {
    "hash": "7430a396aad0c91b2fcbe17da73f518a311e370e85bb67df1876be8199548bf4"
   }
  }
 },
 "nbformat": 4,
 "nbformat_minor": 2
}
